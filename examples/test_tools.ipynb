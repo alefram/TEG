{
 "cells": [
  {
   "cell_type": "markdown",
   "metadata": {},
   "source": [
    "# Testing tools of RobotEnv"
   ]
  },
  {
   "cell_type": "code",
   "execution_count": 2,
   "metadata": {},
   "outputs": [],
   "source": [
    "# importar librerias\n",
    "import time\n",
    "import numpy as np\n",
    "import matplotlib.pyplot as plt\n",
    "from scipy.interpolate import BSpline, make_interp_spline \n",
    "import mujoco_py\n",
    "\n",
    "from RobotEnv.tools.controllers import PID\n",
    "from RobotEnv.tools import simulation\n",
    "from RobotEnv.tools.controllers import Manipulator_Agent\n",
    "from RobotEnv.tools.logger import Logger\n",
    "\n",
    "import glfw\n"
   ]
  },
  {
   "cell_type": "markdown",
   "metadata": {},
   "source": [
    "## Test PID"
   ]
  },
  {
   "cell_type": "code",
   "execution_count": 2,
   "metadata": {},
   "outputs": [
    {
     "data": {
      "image/png": "[encoded data removed]",
      "text/plain": [
       "<Figure size 432x288 with 1 Axes>"
      ]
     },
     "metadata": {
      "needs_background": "light"
     },
     "output_type": "display_data"
    }
   ],
   "source": [
    "def main():\n",
    "\n",
    "    L = 50\n",
    "    pid = PID(P=0.7,I=1.5, D=0.001)\n",
    "\n",
    "    pid.r_t = 0.0\n",
    "    pid.set_sample_time(0.01)\n",
    "\n",
    "\n",
    "    END = L\n",
    "    y_t = 0\n",
    "\n",
    "    y_t_list  = []\n",
    "    time_list = []\n",
    "    r_t_list = []\n",
    "\n",
    "    for i in range(1, END):\n",
    "        pid.update(y_t)\n",
    "        u_t = pid.u_t\n",
    "        if pid.r_t > 0:\n",
    "            y_t += (u_t - (1/i))\n",
    "        if  i > 9:\n",
    "            pid.r_t = 1\n",
    "\n",
    "\n",
    "        time.sleep(0.02)\n",
    "\n",
    "        y_t_list.append(y_t)\n",
    "        r_t_list.append(pid.r_t)\n",
    "        time_list.append(i)\n",
    "\n",
    "    time_sm = np.array(time_list)\n",
    "    time_smooth = np.linspace(time_sm.min(), time_sm.max(), 300)\n",
    "\n",
    "    helper_x3 = make_interp_spline(time_list, y_t_list)\n",
    "    feedback_smooth = helper_x3(time_smooth)\n",
    "\n",
    "    plt.plot(time_smooth, feedback_smooth)\n",
    "    plt.plot(time_list, r_t_list)\n",
    "    plt.xlim((0, L))\n",
    "    plt.ylim((min(y_t_list)-0.5, max(y_t_list)+0.5))\n",
    "    plt.xlabel('time (s)')\n",
    "    plt.ylabel('PID (PV)')\n",
    "    plt.title('TEST PID')\n",
    "\n",
    "    plt.ylim((1-0.5, 1+0.5))\n",
    "\n",
    "    plt.grid(True)\n",
    "    plt.show()\n",
    "\n",
    "main()"
   ]
  },
  {
   "cell_type": "markdown",
   "metadata": {},
   "source": [
    "## Test simulation"
   ]
  },
  {
   "cell_type": "code",
   "execution_count": 3,
   "metadata": {},
   "outputs": [
    {
     "name": "stdout",
     "output_type": "stream",
     "text": [
      "Creating window glfw\n",
      "Creating window glfw\n",
      "<mujoco_py.cymj.MjSim object at 0x7feae30cbc80>\n",
      "<mujoco_py.mjviewer.MjViewer object at 0x5901368>\n"
     ]
    }
   ],
   "source": [
    "def main():\n",
    "    \n",
    "    #simulator\n",
    "    sim = simulation.create_simulation('robotModelV2.xml')\n",
    "\n",
    "    #viewer\n",
    "    viewer = simulation.create_viewer(sim)\n",
    "    viewer2 = mujoco_py.MjViewer(sim)\n",
    "\n",
    "\n",
    "    print(sim)\n",
    "    print(viewer2)\n",
    "    \n",
    "main()"
   ]
  },
  {
   "cell_type": "markdown",
   "metadata": {},
   "source": [
    "## Test agent controller"
   ]
  },
  {
   "cell_type": "code",
   "execution_count": 2,
   "metadata": {},
   "outputs": [
    {
     "name": "stdout",
     "output_type": "stream",
     "text": [
      "no se pudo alcanzar el target en: 99 pasos 0.20000000000000015 seg\n",
      "no se pudo alcanzar el target en: 99 pasos 0.4000000000000003 seg\n",
      "resuelto en: 25 pasos 0.45200000000000035 seg\n",
      "resuelto en: 0 pasos 0.45400000000000035 seg\n",
      "resuelto en: 0 pasos 0.45600000000000035 seg\n",
      "resuelto en: 0 pasos 0.45800000000000035 seg\n",
      "resuelto en: 0 pasos 0.46000000000000035 seg\n",
      "resuelto en: 0 pasos 0.46200000000000035 seg\n",
      "resuelto en: 0 pasos 0.46400000000000036 seg\n",
      "resuelto en: 0 pasos 0.46600000000000036 seg\n"
     ]
    }
   ],
   "source": [
    "def main():\n",
    "    #simulator\n",
    "    sim = simulation.create_simulation(\"robotModelV2.xml\")\n",
    "    \n",
    "    #controller\n",
    "    controller = Manipulator_Agent(\"../agents/ddpg4/pyt_save/model.pt\", sim, 4, render=False)\n",
    "\n",
    "    for i in range(10):\n",
    "        controller.move_to(np.array([0.1, 0.1, 0.5]), timer=100)\n",
    "\n",
    "\n",
    "    #para terminar la simulacion renderizada\n",
    "    glfw.terminate()\n",
    "\n",
    "\n",
    "main()"
   ]
  },
  {
   "cell_type": "markdown",
   "metadata": {},
   "source": [
    "## test plots"
   ]
  },
  {
   "cell_type": "code",
   "execution_count": 5,
   "metadata": {},
   "outputs": [
    {
     "name": "stdout",
     "output_type": "stream",
     "text": [
      "no se pudo alcanzar el target en: 2499 pasos 4.999999999999671 seg\n"
     ]
    },
    {
     "data": {
      "image/png": "[encoded data removed]",
      "text/plain": [
       "<Figure size 432x288 with 1 Axes>"
      ]
     },
     "metadata": {
      "needs_background": "light"
     },
     "output_type": "display_data"
    }
   ],
   "source": [
    "def main():\n",
    "    #simulator\n",
    "    sim = simulation.create_simulation(\"robotModelV2.xml\")\n",
    "\n",
    "    #controller\n",
    "    controller = Manipulator_Agent(\"../agents/ddpg4/pyt_save/model.pt\", sim, 4, render=False)\n",
    "\n",
    "    # data recollector\n",
    "    logger = Logger()\n",
    "\n",
    "    position, qpos, control = controller.move_to(np.array([-0.5, -0.4, 0.5]), distance_threshold=0.01, timer=2500)\n",
    "    # x = [i for i in range(len(data[\"pos_x\"]))]\n",
    "    time = [i*0.002 for i in range(len(qpos[\"base_link\"]))]\n",
    "    y = [i*0.002 for i in range(len(position[\"pos_y\"]))]\n",
    "    # z = [i*0.002 for i in range(len(position[\"pos_z\"]))]\n",
    "    error_a = [-0.4 for i in range(len(position[\"pos_y\"]))]\n",
    "\n",
    "    logger.plot_trajectory(time, qpos[\"base_link\"], grid=True, title=\" accion de control\")\n",
    "    # logger.plot_trajectory(x,  data[\"pos_x\"], grid=True, title=\"posicion en x\")\n",
    "    # logger.plot_trajectory(y,  position[\"pos_y\"], grid=True, title=\"posición en y\")\n",
    "    # logger.plot_trajectory(z,  position[\"pos_z\"], grid=True)\n",
    "    # logger.plot_error(y, error_a=position[\"pos_y\"], error_b=error_a, grid=True)\n",
    "    glfw.terminate()\n",
    "\n",
    "main()"
   ]
  }
 ],
 "metadata": {
  "kernelspec": {
   "display_name": "Python 3.9.15 64-bit",
   "language": "python",
   "name": "python3"
  },
  "language_info": {
   "codemirror_mode": {
    "name": "ipython",
    "version": 3
   },
   "file_extension": ".py",
   "mimetype": "text/x-python",
   "name": "python",
   "nbconvert_exporter": "python",
   "pygments_lexer": "ipython3",
   "version": "3.9.15"
  },
  "orig_nbformat": 4,
  "vscode": {
   "interpreter": {
    "hash": "767d51c1340bd893661ea55ea3124f6de3c7a262a8b4abca0554b478b1e2ff90"
   }
  }
 },
 "nbformat": 4,
 "nbformat_minor": 2
}
